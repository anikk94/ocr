{
 "cells": [
  {
   "cell_type": "code",
   "execution_count": 61,
   "metadata": {
    "metadata": {}
   },
   "outputs": [],
   "source": [
    "# to get mnist hand written character data\n",
    "from torchvision import datasets\n",
    "# turn image data into tensor R^n 'matrix'\n",
    "from torchvision.transforms import ToTensor"
   ]
  },
  {
   "cell_type": "code",
   "execution_count": 62,
   "metadata": {
    "metadata": {}
   },
   "outputs": [
    {
     "name": "stdout",
     "output_type": "stream",
     "text": [
      "Downloading http://yann.lecun.com/exdb/mnist/train-images-idx3-ubyte.gz\n",
      "Failed to download (trying next):\n",
      "HTTP Error 403: Forbidden\n",
      "\n",
      "Downloading https://ossci-datasets.s3.amazonaws.com/mnist/train-images-idx3-ubyte.gz\n"
     ]
    },
    {
     "name": "stderr",
     "output_type": "stream",
     "text": [
      "30.1%"
     ]
    },
    {
     "name": "stdout",
     "output_type": "stream",
     "text": [
      "Downloading https://ossci-datasets.s3.amazonaws.com/mnist/train-images-idx3-ubyte.gz to  data/MNIST/raw/train-images-idx3-ubyte.gz\n"
     ]
    },
    {
     "name": "stderr",
     "output_type": "stream",
     "text": [
      "100.0%\n"
     ]
    },
    {
     "name": "stdout",
     "output_type": "stream",
     "text": [
      "Extracting  data/MNIST/raw/train-images-idx3-ubyte.gz to  data/MNIST/raw\n",
      "\n",
      "Downloading http://yann.lecun.com/exdb/mnist/train-labels-idx1-ubyte.gz\n"
     ]
    },
    {
     "name": "stderr",
     "output_type": "stream",
     "text": [
      "100.0%"
     ]
    },
    {
     "name": "stdout",
     "output_type": "stream",
     "text": [
      "Failed to download (trying next):\n",
      "HTTP Error 403: Forbidden\n",
      "\n",
      "Downloading https://ossci-datasets.s3.amazonaws.com/mnist/train-labels-idx1-ubyte.gz\n",
      "Downloading https://ossci-datasets.s3.amazonaws.com/mnist/train-labels-idx1-ubyte.gz to  data/MNIST/raw/train-labels-idx1-ubyte.gz\n",
      "Extracting  data/MNIST/raw/train-labels-idx1-ubyte.gz to  data/MNIST/raw\n",
      "\n",
      "Downloading http://yann.lecun.com/exdb/mnist/t10k-images-idx3-ubyte.gz\n",
      "Failed to download (trying next):\n",
      "HTTP Error 403: Forbidden\n",
      "\n",
      "Downloading https://ossci-datasets.s3.amazonaws.com/mnist/t10k-images-idx3-ubyte.gz\n",
      "Downloading https://ossci-datasets.s3.amazonaws.com/mnist/t10k-images-idx3-ubyte.gz to  data/MNIST/raw/t10k-images-idx3-ubyte.gz\n"
     ]
    },
    {
     "name": "stderr",
     "output_type": "stream",
     "text": [
      "\n",
      "100.0%\n",
      "100.0%\n"
     ]
    },
    {
     "name": "stdout",
     "output_type": "stream",
     "text": [
      "Extracting  data/MNIST/raw/t10k-images-idx3-ubyte.gz to  data/MNIST/raw\n",
      "\n",
      "Downloading http://yann.lecun.com/exdb/mnist/t10k-labels-idx1-ubyte.gz\n",
      "Failed to download (trying next):\n",
      "HTTP Error 403: Forbidden\n",
      "\n",
      "Downloading https://ossci-datasets.s3.amazonaws.com/mnist/t10k-labels-idx1-ubyte.gz\n",
      "Downloading https://ossci-datasets.s3.amazonaws.com/mnist/t10k-labels-idx1-ubyte.gz to  data/MNIST/raw/t10k-labels-idx1-ubyte.gz\n",
      "Extracting  data/MNIST/raw/t10k-labels-idx1-ubyte.gz to  data/MNIST/raw\n",
      "\n"
     ]
    }
   ],
   "source": [
    "# create a subset of the full dataset for training\n",
    "train_data = datasets.MNIST(\n",
    "  root= \" data\", \n",
    "  train = True, \n",
    "  transform = ToTensor(),\n",
    "  download = True,\n",
    ")\n",
    "\n",
    "# create a subset of the full dataset for testing\n",
    "test_data = datasets.MNIST(\n",
    "  root= \" data\", \n",
    "  train = False, \n",
    "  transform = ToTensor(),\n",
    "  download = True,\n",
    ")"
   ]
  },
  {
   "cell_type": "code",
   "execution_count": 63,
   "metadata": {
    "metadata": {}
   },
   "outputs": [
    {
     "data": {
      "text/plain": [
       "Dataset MNIST\n",
       "    Number of datapoints: 60000\n",
       "    Root location:  data\n",
       "    Split: Train\n",
       "    StandardTransform\n",
       "Transform: ToTensor()"
      ]
     },
     "execution_count": 63,
     "metadata": {},
     "output_type": "execute_result"
    }
   ],
   "source": [
    "train_data"
   ]
  },
  {
   "cell_type": "code",
   "execution_count": 64,
   "metadata": {
    "metadata": {}
   },
   "outputs": [
    {
     "data": {
      "text/plain": [
       "Dataset MNIST\n",
       "    Number of datapoints: 10000\n",
       "    Root location:  data\n",
       "    Split: Test\n",
       "    StandardTransform\n",
       "Transform: ToTensor()"
      ]
     },
     "execution_count": 64,
     "metadata": {},
     "output_type": "execute_result"
    }
   ],
   "source": [
    "test_data"
   ]
  },
  {
   "cell_type": "code",
   "execution_count": 65,
   "metadata": {
    "metadata": {}
   },
   "outputs": [
    {
     "data": {
      "text/plain": [
       "torch.Size([60000, 28, 28])"
      ]
     },
     "execution_count": 65,
     "metadata": {},
     "output_type": "execute_result"
    }
   ],
   "source": [
    "train_data.data.shape\n",
    "train_data.data.size()"
   ]
  },
  {
   "cell_type": "code",
   "execution_count": 66,
   "metadata": {
    "metadata": {}
   },
   "outputs": [
    {
     "data": {
      "text/plain": [
       "torch.Size([60000])"
      ]
     },
     "execution_count": 66,
     "metadata": {},
     "output_type": "execute_result"
    }
   ],
   "source": [
    "train_data.targets.shape\n",
    "train_data.targets.size()"
   ]
  },
  {
   "cell_type": "code",
   "execution_count": 67,
   "metadata": {
    "metadata": {}
   },
   "outputs": [
    {
     "data": {
      "text/plain": [
       "tensor([5, 0, 4,  ..., 5, 6, 8])"
      ]
     },
     "execution_count": 67,
     "metadata": {},
     "output_type": "execute_result"
    }
   ],
   "source": [
    "train_data.targets"
   ]
  },
  {
   "cell_type": "code",
   "execution_count": 68,
   "metadata": {
    "metadata": {}
   },
   "outputs": [],
   "source": [
    "from torch.utils.data import DataLoader\n",
    "\n",
    "\n",
    "# a thing that spits out tiny bits of the dataset when asked\n",
    "loaders = {\n",
    "  \"train\": DataLoader(train_data,\n",
    "                      batch_size = 100,\n",
    "                      shuffle=True,\n",
    "                      num_workers=1,),\n",
    "\n",
    "  \"test\": DataLoader(test_data,\n",
    "                     batch_size=100,\n",
    "                     shuffle=True,\n",
    "                     num_workers=1,),\n",
    "}"
   ]
  },
  {
   "cell_type": "code",
   "execution_count": 69,
   "metadata": {
    "metadata": {}
   },
   "outputs": [],
   "source": [
    "# defining the layers of the model, aka the architecture\n",
    "\n",
    "import torch.nn as nn\n",
    "import torch.nn.functional as F\n",
    "import torch.optim as optim\n",
    "\n",
    "# class Net():\n",
    "class CNN(nn.Module):\n",
    "  def __init__(self):\n",
    "    super(CNN, self).__init__()\n",
    "\n",
    "    self.conv1 = nn.Conv2d(1, 10, kernel_size=5)\n",
    "    self.conv2 = nn.Conv2d(10, 20, kernel_size=5)\n",
    "    # regularization\n",
    "    self.conv2_drop = nn.Dropout2d()\n",
    "    # dense layer, fully connected layer\n",
    "    self.fc1 = nn.Linear(320, 50)\n",
    "    self.fc2 = nn.Linear(50, 10)\n",
    "\n",
    "  def forward(self, x):\n",
    "    x = F.relu(F.max_pool2d(self.conv1(x), 2))\n",
    "    x = F.relu(F.max_pool2d(self.conv2_drop(self.conv2(x)), 2))\n",
    "    x = x.view(-1, 320)\n",
    "    x = F.relu(self.fc1(x))\n",
    "    x = F.dropout(x, training=self.training)\n",
    "    x = self.fc2(x)\n",
    "\n",
    "    # softmax, final probabilities\n",
    "    return F.softmax(x)\n"
   ]
  },
  {
   "cell_type": "code",
   "execution_count": 70,
   "metadata": {
    "metadata": {}
   },
   "outputs": [],
   "source": [
    "import torch\n",
    "\n",
    "device = torch.device(\"cuda\" if torch.cuda.is_available() else \"cpu\")\n",
    "# device = torch.device(\"cpu\")\n",
    "\n",
    "model = CNN().to(device)\n",
    "\n",
    "optimizer = optim.Adam(model.parameters(), lr=0.001)\n",
    "\n",
    "loss_fn = nn.CrossEntropyLoss()\n",
    "\n",
    "def train(epoch):\n",
    "  # set model to train mode\n",
    "  model.train()\n",
    "\n",
    "  for batch_idx, (data, target) in enumerate(loaders[\"train\"]):\n",
    "    data, target = data.to(device), target.to(device)\n",
    "    # zero gradients in optimizer\n",
    "    optimizer.zero_grad()\n",
    "    # make a prediction - forward pass\n",
    "    output = model(data)\n",
    "    # calculate performance\n",
    "    loss = loss_fn(output, target)\n",
    "    # backpropagation \n",
    "    loss.backward()\n",
    "    # do a step of the optimizer\n",
    "    optimizer.step()\n",
    "\n",
    "    if batch_idx % 20 == 0:\n",
    "      print(f'Train Epoch: {epoch} [{batch_idx * len(data)}/{len(loaders[\"train\"].dataset)} ({100. * batch_idx / len(loaders[\"train\"]):.0f}%)]\\t{loss.item():.6f}')\n",
    "\n",
    "def test():\n",
    "  model.eval()\n",
    "\n",
    "  test_loss = 0\n",
    "  correct = 0\n",
    "\n",
    "  with torch.no_grad():\n",
    "    for data, target in loaders['test']:\n",
    "      data, target = data.to(device), target.to(device)\n",
    "      output = model(data)\n",
    "      test_loss += loss_fn(output, target).item()\n",
    "      pred = output.argmax(dim=1, keepdim=True)\n",
    "      correct += pred.eq(target.view_as(pred)).sum().item()\n",
    "\n",
    "\n",
    "  test_loss /= len(loaders['test'].dataset)\n",
    "  print(f'/nTest set: Average loss: {test_loss:.4f}, Accuracy {correct}/{len(loaders[\"test\"].dataset)} ({100. * correct / len(loaders[\"test\"].dataset):.0f}%\\n)')\n",
    "  "
   ]
  },
  {
   "cell_type": "code",
   "execution_count": 71,
   "metadata": {
    "metadata": {}
   },
   "outputs": [
    {
     "name": "stderr",
     "output_type": "stream",
     "text": [
      "/tmp/ipykernel_21426/1710167421.py:29: UserWarning: Implicit dimension choice for softmax has been deprecated. Change the call to include dim=X as an argument.\n",
      "  return F.softmax(x)\n"
     ]
    },
    {
     "name": "stdout",
     "output_type": "stream",
     "text": [
      "Train Epoch: 1 [0/60000 (0%)]\t2.302277\n",
      "Train Epoch: 1 [2000/60000 (3%)]\t2.284749\n",
      "Train Epoch: 1 [4000/60000 (7%)]\t2.175776\n",
      "Train Epoch: 1 [6000/60000 (10%)]\t2.073236\n",
      "Train Epoch: 1 [8000/60000 (13%)]\t1.938650\n",
      "Train Epoch: 1 [10000/60000 (17%)]\t1.881314\n",
      "Train Epoch: 1 [12000/60000 (20%)]\t1.872207\n",
      "Train Epoch: 1 [14000/60000 (23%)]\t1.778940\n",
      "Train Epoch: 1 [16000/60000 (27%)]\t1.718321\n",
      "Train Epoch: 1 [18000/60000 (30%)]\t1.743869\n",
      "Train Epoch: 1 [20000/60000 (33%)]\t1.689769\n",
      "Train Epoch: 1 [22000/60000 (37%)]\t1.679259\n",
      "Train Epoch: 1 [24000/60000 (40%)]\t1.692059\n",
      "Train Epoch: 1 [26000/60000 (43%)]\t1.604135\n",
      "Train Epoch: 1 [28000/60000 (47%)]\t1.725522\n",
      "Train Epoch: 1 [30000/60000 (50%)]\t1.637331\n",
      "Train Epoch: 1 [32000/60000 (53%)]\t1.666844\n",
      "Train Epoch: 1 [34000/60000 (57%)]\t1.623383\n",
      "Train Epoch: 1 [36000/60000 (60%)]\t1.650979\n",
      "Train Epoch: 1 [38000/60000 (63%)]\t1.643851\n",
      "Train Epoch: 1 [40000/60000 (67%)]\t1.578739\n",
      "Train Epoch: 1 [42000/60000 (70%)]\t1.591514\n",
      "Train Epoch: 1 [44000/60000 (73%)]\t1.570816\n",
      "Train Epoch: 1 [46000/60000 (77%)]\t1.604072\n",
      "Train Epoch: 1 [48000/60000 (80%)]\t1.587155\n",
      "Train Epoch: 1 [50000/60000 (83%)]\t1.626550\n",
      "Train Epoch: 1 [52000/60000 (87%)]\t1.642537\n",
      "Train Epoch: 1 [54000/60000 (90%)]\t1.613721\n",
      "Train Epoch: 1 [56000/60000 (93%)]\t1.658920\n",
      "Train Epoch: 1 [58000/60000 (97%)]\t1.613646\n",
      "/nTest set: Average loss: 0.0153, Accuracy 9371/10000 (94%\n",
      ")\n",
      "Train Epoch: 2 [0/60000 (0%)]\t1.620869\n",
      "Train Epoch: 2 [2000/60000 (3%)]\t1.577225\n",
      "Train Epoch: 2 [4000/60000 (7%)]\t1.630439\n",
      "Train Epoch: 2 [6000/60000 (10%)]\t1.582145\n",
      "Train Epoch: 2 [8000/60000 (13%)]\t1.629236\n",
      "Train Epoch: 2 [10000/60000 (17%)]\t1.569897\n",
      "Train Epoch: 2 [12000/60000 (20%)]\t1.593261\n",
      "Train Epoch: 2 [14000/60000 (23%)]\t1.537887\n",
      "Train Epoch: 2 [16000/60000 (27%)]\t1.597240\n",
      "Train Epoch: 2 [18000/60000 (30%)]\t1.577605\n",
      "Train Epoch: 2 [20000/60000 (33%)]\t1.583222\n",
      "Train Epoch: 2 [22000/60000 (37%)]\t1.604020\n",
      "Train Epoch: 2 [24000/60000 (40%)]\t1.639610\n",
      "Train Epoch: 2 [26000/60000 (43%)]\t1.573784\n",
      "Train Epoch: 2 [28000/60000 (47%)]\t1.534788\n",
      "Train Epoch: 2 [30000/60000 (50%)]\t1.558383\n",
      "Train Epoch: 2 [32000/60000 (53%)]\t1.583222\n",
      "Train Epoch: 2 [34000/60000 (57%)]\t1.567516\n",
      "Train Epoch: 2 [36000/60000 (60%)]\t1.579933\n",
      "Train Epoch: 2 [38000/60000 (63%)]\t1.529685\n",
      "Train Epoch: 2 [40000/60000 (67%)]\t1.666955\n",
      "Train Epoch: 2 [42000/60000 (70%)]\t1.528206\n",
      "Train Epoch: 2 [44000/60000 (73%)]\t1.541718\n",
      "Train Epoch: 2 [46000/60000 (77%)]\t1.513372\n",
      "Train Epoch: 2 [48000/60000 (80%)]\t1.613182\n",
      "Train Epoch: 2 [50000/60000 (83%)]\t1.581643\n",
      "Train Epoch: 2 [52000/60000 (87%)]\t1.600951\n",
      "Train Epoch: 2 [54000/60000 (90%)]\t1.549003\n",
      "Train Epoch: 2 [56000/60000 (93%)]\t1.526901\n",
      "Train Epoch: 2 [58000/60000 (97%)]\t1.594423\n",
      "/nTest set: Average loss: 0.0151, Accuracy 9503/10000 (95%\n",
      ")\n",
      "Train Epoch: 3 [0/60000 (0%)]\t1.607250\n",
      "Train Epoch: 3 [2000/60000 (3%)]\t1.622513\n",
      "Train Epoch: 3 [4000/60000 (7%)]\t1.572168\n",
      "Train Epoch: 3 [6000/60000 (10%)]\t1.569705\n",
      "Train Epoch: 3 [8000/60000 (13%)]\t1.552189\n",
      "Train Epoch: 3 [10000/60000 (17%)]\t1.588954\n",
      "Train Epoch: 3 [12000/60000 (20%)]\t1.619245\n",
      "Train Epoch: 3 [14000/60000 (23%)]\t1.561784\n",
      "Train Epoch: 3 [16000/60000 (27%)]\t1.582185\n",
      "Train Epoch: 3 [18000/60000 (30%)]\t1.609347\n",
      "Train Epoch: 3 [20000/60000 (33%)]\t1.547543\n",
      "Train Epoch: 3 [22000/60000 (37%)]\t1.574005\n",
      "Train Epoch: 3 [24000/60000 (40%)]\t1.571862\n",
      "Train Epoch: 3 [26000/60000 (43%)]\t1.550231\n",
      "Train Epoch: 3 [28000/60000 (47%)]\t1.579820\n",
      "Train Epoch: 3 [30000/60000 (50%)]\t1.532802\n",
      "Train Epoch: 3 [32000/60000 (53%)]\t1.537717\n",
      "Train Epoch: 3 [34000/60000 (57%)]\t1.619647\n",
      "Train Epoch: 3 [36000/60000 (60%)]\t1.546133\n",
      "Train Epoch: 3 [38000/60000 (63%)]\t1.544414\n",
      "Train Epoch: 3 [40000/60000 (67%)]\t1.578028\n",
      "Train Epoch: 3 [42000/60000 (70%)]\t1.591414\n",
      "Train Epoch: 3 [44000/60000 (73%)]\t1.582951\n",
      "Train Epoch: 3 [46000/60000 (77%)]\t1.590014\n",
      "Train Epoch: 3 [48000/60000 (80%)]\t1.571579\n",
      "Train Epoch: 3 [50000/60000 (83%)]\t1.535017\n",
      "Train Epoch: 3 [52000/60000 (87%)]\t1.560833\n",
      "Train Epoch: 3 [54000/60000 (90%)]\t1.559770\n",
      "Train Epoch: 3 [56000/60000 (93%)]\t1.562318\n",
      "Train Epoch: 3 [58000/60000 (97%)]\t1.544302\n",
      "/nTest set: Average loss: 0.0150, Accuracy 9595/10000 (96%\n",
      ")\n",
      "Train Epoch: 4 [0/60000 (0%)]\t1.579198\n",
      "Train Epoch: 4 [2000/60000 (3%)]\t1.534523\n",
      "Train Epoch: 4 [4000/60000 (7%)]\t1.558149\n",
      "Train Epoch: 4 [6000/60000 (10%)]\t1.513228\n",
      "Train Epoch: 4 [8000/60000 (13%)]\t1.547706\n",
      "Train Epoch: 4 [10000/60000 (17%)]\t1.566485\n",
      "Train Epoch: 4 [12000/60000 (20%)]\t1.550170\n",
      "Train Epoch: 4 [14000/60000 (23%)]\t1.564371\n",
      "Train Epoch: 4 [16000/60000 (27%)]\t1.570905\n",
      "Train Epoch: 4 [18000/60000 (30%)]\t1.588522\n",
      "Train Epoch: 4 [20000/60000 (33%)]\t1.574609\n",
      "Train Epoch: 4 [22000/60000 (37%)]\t1.550992\n",
      "Train Epoch: 4 [24000/60000 (40%)]\t1.600122\n",
      "Train Epoch: 4 [26000/60000 (43%)]\t1.556243\n",
      "Train Epoch: 4 [28000/60000 (47%)]\t1.563462\n",
      "Train Epoch: 4 [30000/60000 (50%)]\t1.598507\n",
      "Train Epoch: 4 [32000/60000 (53%)]\t1.532159\n",
      "Train Epoch: 4 [34000/60000 (57%)]\t1.521691\n",
      "Train Epoch: 4 [36000/60000 (60%)]\t1.566057\n",
      "Train Epoch: 4 [38000/60000 (63%)]\t1.553091\n",
      "Train Epoch: 4 [40000/60000 (67%)]\t1.558748\n",
      "Train Epoch: 4 [42000/60000 (70%)]\t1.553474\n",
      "Train Epoch: 4 [44000/60000 (73%)]\t1.591671\n",
      "Train Epoch: 4 [46000/60000 (77%)]\t1.532436\n",
      "Train Epoch: 4 [48000/60000 (80%)]\t1.542600\n",
      "Train Epoch: 4 [50000/60000 (83%)]\t1.545303\n",
      "Train Epoch: 4 [52000/60000 (87%)]\t1.523692\n",
      "Train Epoch: 4 [54000/60000 (90%)]\t1.521198\n",
      "Train Epoch: 4 [56000/60000 (93%)]\t1.577119\n",
      "Train Epoch: 4 [58000/60000 (97%)]\t1.541335\n",
      "/nTest set: Average loss: 0.0150, Accuracy 9618/10000 (96%\n",
      ")\n",
      "Train Epoch: 5 [0/60000 (0%)]\t1.499081\n",
      "Train Epoch: 5 [2000/60000 (3%)]\t1.533155\n",
      "Train Epoch: 5 [4000/60000 (7%)]\t1.545260\n",
      "Train Epoch: 5 [6000/60000 (10%)]\t1.548112\n",
      "Train Epoch: 5 [8000/60000 (13%)]\t1.576862\n",
      "Train Epoch: 5 [10000/60000 (17%)]\t1.532710\n",
      "Train Epoch: 5 [12000/60000 (20%)]\t1.527892\n",
      "Train Epoch: 5 [14000/60000 (23%)]\t1.581445\n",
      "Train Epoch: 5 [16000/60000 (27%)]\t1.530281\n",
      "Train Epoch: 5 [18000/60000 (30%)]\t1.505835\n",
      "Train Epoch: 5 [20000/60000 (33%)]\t1.583048\n",
      "Train Epoch: 5 [22000/60000 (37%)]\t1.533278\n",
      "Train Epoch: 5 [24000/60000 (40%)]\t1.514325\n",
      "Train Epoch: 5 [26000/60000 (43%)]\t1.536927\n",
      "Train Epoch: 5 [28000/60000 (47%)]\t1.520848\n",
      "Train Epoch: 5 [30000/60000 (50%)]\t1.572344\n",
      "Train Epoch: 5 [32000/60000 (53%)]\t1.553499\n",
      "Train Epoch: 5 [34000/60000 (57%)]\t1.538228\n",
      "Train Epoch: 5 [36000/60000 (60%)]\t1.547986\n",
      "Train Epoch: 5 [38000/60000 (63%)]\t1.547313\n",
      "Train Epoch: 5 [40000/60000 (67%)]\t1.552230\n",
      "Train Epoch: 5 [42000/60000 (70%)]\t1.538651\n",
      "Train Epoch: 5 [44000/60000 (73%)]\t1.550576\n",
      "Train Epoch: 5 [46000/60000 (77%)]\t1.499273\n",
      "Train Epoch: 5 [48000/60000 (80%)]\t1.563900\n",
      "Train Epoch: 5 [50000/60000 (83%)]\t1.534380\n",
      "Train Epoch: 5 [52000/60000 (87%)]\t1.537708\n",
      "Train Epoch: 5 [54000/60000 (90%)]\t1.528377\n",
      "Train Epoch: 5 [56000/60000 (93%)]\t1.556080\n",
      "Train Epoch: 5 [58000/60000 (97%)]\t1.542137\n",
      "/nTest set: Average loss: 0.0150, Accuracy 9638/10000 (96%\n",
      ")\n",
      "Train Epoch: 6 [0/60000 (0%)]\t1.532473\n",
      "Train Epoch: 6 [2000/60000 (3%)]\t1.514750\n",
      "Train Epoch: 6 [4000/60000 (7%)]\t1.538087\n",
      "Train Epoch: 6 [6000/60000 (10%)]\t1.562851\n",
      "Train Epoch: 6 [8000/60000 (13%)]\t1.501957\n",
      "Train Epoch: 6 [10000/60000 (17%)]\t1.537603\n",
      "Train Epoch: 6 [12000/60000 (20%)]\t1.537331\n",
      "Train Epoch: 6 [14000/60000 (23%)]\t1.543911\n",
      "Train Epoch: 6 [16000/60000 (27%)]\t1.540390\n",
      "Train Epoch: 6 [18000/60000 (30%)]\t1.518488\n",
      "Train Epoch: 6 [20000/60000 (33%)]\t1.575350\n",
      "Train Epoch: 6 [22000/60000 (37%)]\t1.595149\n",
      "Train Epoch: 6 [24000/60000 (40%)]\t1.554002\n",
      "Train Epoch: 6 [26000/60000 (43%)]\t1.539240\n",
      "Train Epoch: 6 [28000/60000 (47%)]\t1.506788\n",
      "Train Epoch: 6 [30000/60000 (50%)]\t1.568982\n",
      "Train Epoch: 6 [32000/60000 (53%)]\t1.551295\n",
      "Train Epoch: 6 [34000/60000 (57%)]\t1.564723\n",
      "Train Epoch: 6 [36000/60000 (60%)]\t1.527578\n",
      "Train Epoch: 6 [38000/60000 (63%)]\t1.511842\n",
      "Train Epoch: 6 [40000/60000 (67%)]\t1.560570\n",
      "Train Epoch: 6 [42000/60000 (70%)]\t1.581772\n",
      "Train Epoch: 6 [44000/60000 (73%)]\t1.534129\n",
      "Train Epoch: 6 [46000/60000 (77%)]\t1.511729\n",
      "Train Epoch: 6 [48000/60000 (80%)]\t1.549446\n",
      "Train Epoch: 6 [50000/60000 (83%)]\t1.518834\n",
      "Train Epoch: 6 [52000/60000 (87%)]\t1.528476\n",
      "Train Epoch: 6 [54000/60000 (90%)]\t1.537628\n",
      "Train Epoch: 6 [56000/60000 (93%)]\t1.579106\n",
      "Train Epoch: 6 [58000/60000 (97%)]\t1.532562\n",
      "/nTest set: Average loss: 0.0149, Accuracy 9683/10000 (97%\n",
      ")\n",
      "Train Epoch: 7 [0/60000 (0%)]\t1.548662\n",
      "Train Epoch: 7 [2000/60000 (3%)]\t1.510739\n",
      "Train Epoch: 7 [4000/60000 (7%)]\t1.557116\n",
      "Train Epoch: 7 [6000/60000 (10%)]\t1.514734\n",
      "Train Epoch: 7 [8000/60000 (13%)]\t1.530229\n",
      "Train Epoch: 7 [10000/60000 (17%)]\t1.541108\n",
      "Train Epoch: 7 [12000/60000 (20%)]\t1.498752\n",
      "Train Epoch: 7 [14000/60000 (23%)]\t1.523638\n",
      "Train Epoch: 7 [16000/60000 (27%)]\t1.491331\n",
      "Train Epoch: 7 [18000/60000 (30%)]\t1.498055\n",
      "Train Epoch: 7 [20000/60000 (33%)]\t1.545865\n",
      "Train Epoch: 7 [22000/60000 (37%)]\t1.575341\n",
      "Train Epoch: 7 [24000/60000 (40%)]\t1.529330\n",
      "Train Epoch: 7 [26000/60000 (43%)]\t1.509409\n",
      "Train Epoch: 7 [28000/60000 (47%)]\t1.530393\n",
      "Train Epoch: 7 [30000/60000 (50%)]\t1.533839\n",
      "Train Epoch: 7 [32000/60000 (53%)]\t1.527111\n",
      "Train Epoch: 7 [34000/60000 (57%)]\t1.542484\n",
      "Train Epoch: 7 [36000/60000 (60%)]\t1.549430\n",
      "Train Epoch: 7 [38000/60000 (63%)]\t1.545936\n",
      "Train Epoch: 7 [40000/60000 (67%)]\t1.510256\n",
      "Train Epoch: 7 [42000/60000 (70%)]\t1.557239\n",
      "Train Epoch: 7 [44000/60000 (73%)]\t1.556040\n",
      "Train Epoch: 7 [46000/60000 (77%)]\t1.551459\n",
      "Train Epoch: 7 [48000/60000 (80%)]\t1.546728\n",
      "Train Epoch: 7 [50000/60000 (83%)]\t1.568796\n",
      "Train Epoch: 7 [52000/60000 (87%)]\t1.518364\n",
      "Train Epoch: 7 [54000/60000 (90%)]\t1.496832\n",
      "Train Epoch: 7 [56000/60000 (93%)]\t1.520685\n",
      "Train Epoch: 7 [58000/60000 (97%)]\t1.564619\n",
      "/nTest set: Average loss: 0.0149, Accuracy 9688/10000 (97%\n",
      ")\n",
      "Train Epoch: 8 [0/60000 (0%)]\t1.522523\n",
      "Train Epoch: 8 [2000/60000 (3%)]\t1.535238\n",
      "Train Epoch: 8 [4000/60000 (7%)]\t1.523189\n",
      "Train Epoch: 8 [6000/60000 (10%)]\t1.532265\n",
      "Train Epoch: 8 [8000/60000 (13%)]\t1.546083\n",
      "Train Epoch: 8 [10000/60000 (17%)]\t1.576711\n",
      "Train Epoch: 8 [12000/60000 (20%)]\t1.503408\n",
      "Train Epoch: 8 [14000/60000 (23%)]\t1.560961\n",
      "Train Epoch: 8 [16000/60000 (27%)]\t1.543020\n",
      "Train Epoch: 8 [18000/60000 (30%)]\t1.538586\n",
      "Train Epoch: 8 [20000/60000 (33%)]\t1.519472\n",
      "Train Epoch: 8 [22000/60000 (37%)]\t1.494619\n",
      "Train Epoch: 8 [24000/60000 (40%)]\t1.492223\n",
      "Train Epoch: 8 [26000/60000 (43%)]\t1.532737\n",
      "Train Epoch: 8 [28000/60000 (47%)]\t1.560820\n",
      "Train Epoch: 8 [30000/60000 (50%)]\t1.533013\n",
      "Train Epoch: 8 [32000/60000 (53%)]\t1.537258\n",
      "Train Epoch: 8 [34000/60000 (57%)]\t1.563846\n",
      "Train Epoch: 8 [36000/60000 (60%)]\t1.537947\n",
      "Train Epoch: 8 [38000/60000 (63%)]\t1.515058\n",
      "Train Epoch: 8 [40000/60000 (67%)]\t1.526347\n",
      "Train Epoch: 8 [42000/60000 (70%)]\t1.508741\n",
      "Train Epoch: 8 [44000/60000 (73%)]\t1.535417\n",
      "Train Epoch: 8 [46000/60000 (77%)]\t1.552200\n",
      "Train Epoch: 8 [48000/60000 (80%)]\t1.544050\n",
      "Train Epoch: 8 [50000/60000 (83%)]\t1.522523\n",
      "Train Epoch: 8 [52000/60000 (87%)]\t1.558958\n",
      "Train Epoch: 8 [54000/60000 (90%)]\t1.538947\n",
      "Train Epoch: 8 [56000/60000 (93%)]\t1.587671\n",
      "Train Epoch: 8 [58000/60000 (97%)]\t1.509525\n",
      "/nTest set: Average loss: 0.0149, Accuracy 9723/10000 (97%\n",
      ")\n",
      "Train Epoch: 9 [0/60000 (0%)]\t1.497060\n",
      "Train Epoch: 9 [2000/60000 (3%)]\t1.538711\n",
      "Train Epoch: 9 [4000/60000 (7%)]\t1.529678\n",
      "Train Epoch: 9 [6000/60000 (10%)]\t1.537864\n",
      "Train Epoch: 9 [8000/60000 (13%)]\t1.578937\n",
      "Train Epoch: 9 [10000/60000 (17%)]\t1.506040\n",
      "Train Epoch: 9 [12000/60000 (20%)]\t1.502089\n",
      "Train Epoch: 9 [14000/60000 (23%)]\t1.501330\n",
      "Train Epoch: 9 [16000/60000 (27%)]\t1.506872\n",
      "Train Epoch: 9 [18000/60000 (30%)]\t1.484064\n",
      "Train Epoch: 9 [20000/60000 (33%)]\t1.570218\n",
      "Train Epoch: 9 [22000/60000 (37%)]\t1.509125\n",
      "Train Epoch: 9 [24000/60000 (40%)]\t1.552857\n",
      "Train Epoch: 9 [26000/60000 (43%)]\t1.523447\n",
      "Train Epoch: 9 [28000/60000 (47%)]\t1.572969\n",
      "Train Epoch: 9 [30000/60000 (50%)]\t1.543556\n",
      "Train Epoch: 9 [32000/60000 (53%)]\t1.532532\n",
      "Train Epoch: 9 [34000/60000 (57%)]\t1.510889\n",
      "Train Epoch: 9 [36000/60000 (60%)]\t1.547376\n",
      "Train Epoch: 9 [38000/60000 (63%)]\t1.581849\n",
      "Train Epoch: 9 [40000/60000 (67%)]\t1.540014\n",
      "Train Epoch: 9 [42000/60000 (70%)]\t1.555979\n",
      "Train Epoch: 9 [44000/60000 (73%)]\t1.547440\n",
      "Train Epoch: 9 [46000/60000 (77%)]\t1.501165\n",
      "Train Epoch: 9 [48000/60000 (80%)]\t1.529034\n",
      "Train Epoch: 9 [50000/60000 (83%)]\t1.484221\n",
      "Train Epoch: 9 [52000/60000 (87%)]\t1.525978\n",
      "Train Epoch: 9 [54000/60000 (90%)]\t1.532644\n",
      "Train Epoch: 9 [56000/60000 (93%)]\t1.511797\n",
      "Train Epoch: 9 [58000/60000 (97%)]\t1.496676\n",
      "/nTest set: Average loss: 0.0149, Accuracy 9712/10000 (97%\n",
      ")\n",
      "Train Epoch: 10 [0/60000 (0%)]\t1.526431\n",
      "Train Epoch: 10 [2000/60000 (3%)]\t1.504594\n",
      "Train Epoch: 10 [4000/60000 (7%)]\t1.528863\n",
      "Train Epoch: 10 [6000/60000 (10%)]\t1.489839\n",
      "Train Epoch: 10 [8000/60000 (13%)]\t1.536576\n",
      "Train Epoch: 10 [10000/60000 (17%)]\t1.516939\n",
      "Train Epoch: 10 [12000/60000 (20%)]\t1.529815\n",
      "Train Epoch: 10 [14000/60000 (23%)]\t1.525982\n",
      "Train Epoch: 10 [16000/60000 (27%)]\t1.571105\n",
      "Train Epoch: 10 [18000/60000 (30%)]\t1.519409\n",
      "Train Epoch: 10 [20000/60000 (33%)]\t1.542884\n",
      "Train Epoch: 10 [22000/60000 (37%)]\t1.552827\n",
      "Train Epoch: 10 [24000/60000 (40%)]\t1.514657\n",
      "Train Epoch: 10 [26000/60000 (43%)]\t1.509281\n",
      "Train Epoch: 10 [28000/60000 (47%)]\t1.520266\n",
      "Train Epoch: 10 [30000/60000 (50%)]\t1.531714\n",
      "Train Epoch: 10 [32000/60000 (53%)]\t1.550032\n",
      "Train Epoch: 10 [34000/60000 (57%)]\t1.501771\n",
      "Train Epoch: 10 [36000/60000 (60%)]\t1.548678\n",
      "Train Epoch: 10 [38000/60000 (63%)]\t1.572487\n",
      "Train Epoch: 10 [40000/60000 (67%)]\t1.542555\n",
      "Train Epoch: 10 [42000/60000 (70%)]\t1.524567\n",
      "Train Epoch: 10 [44000/60000 (73%)]\t1.513759\n",
      "Train Epoch: 10 [46000/60000 (77%)]\t1.539278\n",
      "Train Epoch: 10 [48000/60000 (80%)]\t1.488683\n",
      "Train Epoch: 10 [50000/60000 (83%)]\t1.499490\n",
      "Train Epoch: 10 [52000/60000 (87%)]\t1.559076\n",
      "Train Epoch: 10 [54000/60000 (90%)]\t1.528051\n",
      "Train Epoch: 10 [56000/60000 (93%)]\t1.538129\n",
      "Train Epoch: 10 [58000/60000 (97%)]\t1.486105\n",
      "/nTest set: Average loss: 0.0149, Accuracy 9736/10000 (97%\n",
      ")\n"
     ]
    }
   ],
   "source": [
    "for epoch in range(1, 11): \n",
    "  train(epoch)\n",
    "  test()"
   ]
  },
  {
   "cell_type": "code",
   "execution_count": 72,
   "metadata": {
    "metadata": {}
   },
   "outputs": [
    {
     "data": {
      "text/plain": [
       "device(type='cuda')"
      ]
     },
     "execution_count": 72,
     "metadata": {},
     "output_type": "execute_result"
    }
   ],
   "source": [
    "device"
   ]
  },
  {
   "cell_type": "markdown",
   "metadata": {},
   "source": [
    "# Check Predictions\n",
    "Change index of test_data[index] to get different test cases"
   ]
  },
  {
   "cell_type": "code",
   "execution_count": null,
   "metadata": {
    "metadata": {}
   },
   "outputs": [
    {
     "name": "stdout",
     "output_type": "stream",
     "text": [
      "Prediction: 7\n"
     ]
    },
    {
     "name": "stderr",
     "output_type": "stream",
     "text": [
      "/tmp/ipykernel_21426/1710167421.py:29: UserWarning: Implicit dimension choice for softmax has been deprecated. Change the call to include dim=X as an argument.\n",
      "  return F.softmax(x)\n"
     ]
    },
    {
     "data": {
      "image/png": "[encoded data removed]",
      "text/plain": [
       "<Figure size 640x480 with 1 Axes>"
      ]
     },
     "metadata": {},
     "output_type": "display_data"
    }
   ],
   "source": [
    "import matplotlib.pyplot as plt\n",
    "\n",
    "model.eval()\n",
    "\n",
    "# # random test case ...\n",
    "# random_test_data = ...\n",
    "# data, target = test_data[random_test_data]\n",
    "\n",
    "data, target = test_data[0]\n",
    "\n",
    "data = data.unsqueeze(0).to(device)\n",
    "\n",
    "output = model(data)\n",
    "\n",
    "prediction = output.argmax(dim=1, keepdim=True).item()\n",
    "\n",
    "print(f'Prediction: {prediction}')\n",
    "\n",
    "image = data.squeeze(0). squeeze(0).cpu().numpy()\n",
    "\n",
    "plt.imshow(image, cmap=\"gray\")\n",
    "plt.show()"
   ]
  },
  {
   "cell_type": "code",
   "execution_count": null,
   "metadata": {},
   "outputs": [],
   "source": []
  }
 ],
 "metadata": {
  "kernelspec": {
   "display_name": ".venv",
   "language": "python",
   "name": "python3"
  },
  "language_info": {
   "codemirror_mode": {
    "name": "ipython",
    "version": 3
   },
   "file_extension": ".py",
   "mimetype": "text/x-python",
   "name": "python",
   "nbconvert_exporter": "python",
   "pygments_lexer": "ipython3",
   "version": "3.10.12"
  }
 },
 "nbformat": 4,
 "nbformat_minor": 2
}
