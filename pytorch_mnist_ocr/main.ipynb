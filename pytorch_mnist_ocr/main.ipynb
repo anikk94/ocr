{
 "cells": [
  {
   "cell_type": "code",
   "execution_count": 38,
   "metadata": {
    "metadata": {}
   },
   "outputs": [],
   "source": [
    "# to get mnist hand written character data\n",
    "from torchvision import datasets\n",
    "# turn image data into tensor R^n 'matrix'\n",
    "from torchvision.transforms import ToTensor"
   ]
  },
  {
   "cell_type": "code",
   "execution_count": 39,
   "metadata": {
    "metadata": {}
   },
   "outputs": [],
   "source": [
    "# create a subset of the full dataset for training\n",
    "train_data = datasets.MNIST(\n",
    "  root= \" data\", \n",
    "  train = True, \n",
    "  transform = ToTensor(),\n",
    "  download = True,\n",
    ")\n",
    "\n",
    "# create a subset of the full dataset for testing\n",
    "test_data = datasets.MNIST(\n",
    "  root= \" data\", \n",
    "  train = False, \n",
    "  transform = ToTensor(),\n",
    "  download = True,\n",
    ")"
   ]
  },
  {
   "cell_type": "code",
   "execution_count": 40,
   "metadata": {
    "metadata": {}
   },
   "outputs": [
    {
     "data": {
      "text/plain": [
       "Dataset MNIST\n",
       "    Number of datapoints: 60000\n",
       "    Root location:  data\n",
       "    Split: Train\n",
       "    StandardTransform\n",
       "Transform: ToTensor()"
      ]
     },
     "execution_count": 40,
     "metadata": {},
     "output_type": "execute_result"
    }
   ],
   "source": [
    "train_data"
   ]
  },
  {
   "cell_type": "code",
   "execution_count": 41,
   "metadata": {
    "metadata": {}
   },
   "outputs": [
    {
     "data": {
      "text/plain": [
       "Dataset MNIST\n",
       "    Number of datapoints: 10000\n",
       "    Root location:  data\n",
       "    Split: Test\n",
       "    StandardTransform\n",
       "Transform: ToTensor()"
      ]
     },
     "execution_count": 41,
     "metadata": {},
     "output_type": "execute_result"
    }
   ],
   "source": [
    "test_data"
   ]
  },
  {
   "cell_type": "code",
   "execution_count": 42,
   "metadata": {
    "metadata": {}
   },
   "outputs": [
    {
     "data": {
      "text/plain": [
       "torch.Size([60000, 28, 28])"
      ]
     },
     "execution_count": 42,
     "metadata": {},
     "output_type": "execute_result"
    }
   ],
   "source": [
    "train_data.data.shape\n",
    "train_data.data.size()"
   ]
  },
  {
   "cell_type": "code",
   "execution_count": 43,
   "metadata": {
    "metadata": {}
   },
   "outputs": [
    {
     "data": {
      "text/plain": [
       "torch.Size([60000])"
      ]
     },
     "execution_count": 43,
     "metadata": {},
     "output_type": "execute_result"
    }
   ],
   "source": [
    "train_data.targets.shape\n",
    "train_data.targets.size()"
   ]
  },
  {
   "cell_type": "code",
   "execution_count": 44,
   "metadata": {
    "metadata": {}
   },
   "outputs": [
    {
     "data": {
      "text/plain": [
       "tensor([5, 0, 4,  ..., 5, 6, 8])"
      ]
     },
     "execution_count": 44,
     "metadata": {},
     "output_type": "execute_result"
    }
   ],
   "source": [
    "train_data.targets"
   ]
  },
  {
   "cell_type": "code",
   "execution_count": 45,
   "metadata": {
    "metadata": {}
   },
   "outputs": [],
   "source": [
    "from torch.utils.data import DataLoader\n",
    "\n",
    "\n",
    "# a thing that spits out tiny bits of the dataset when asked\n",
    "loaders = {\n",
    "  \"train\": DataLoader(train_data,\n",
    "                      batch_size = 100,\n",
    "                      shuffle=True,\n",
    "                      num_workers=1,),\n",
    "\n",
    "  \"test\": DataLoader(test_data,\n",
    "                     batch_size=100,\n",
    "                     shuffle=True,\n",
    "                     num_workers=1,),\n",
    "}"
   ]
  },
  {
   "cell_type": "code",
   "execution_count": 46,
   "metadata": {
    "metadata": {}
   },
   "outputs": [],
   "source": [
    "# defining the layers of the model, aka the architecture\n",
    "\n",
    "import torch.nn as nn\n",
    "import torch.nn.functional as F\n",
    "import torch.optim as optim\n",
    "\n",
    "# class Net():\n",
    "class CNN(nn.Module):\n",
    "  def __init__(self):\n",
    "    super(CNN, self).__init__()\n",
    "\n",
    "    self.conv1 = nn.Conv2d(1, 10, kernel_size=5)\n",
    "    self.conv2 = nn.Conv2d(10, 20, kernel_size=5)\n",
    "    # regularization\n",
    "    self.conv2_drop = nn.Dropout2d()\n",
    "    # dense layer, fully connected layer\n",
    "    self.fc1 = nn.Linear(320, 50)\n",
    "    self.fc2 = nn.Linear(50, 10)\n",
    "\n",
    "  def forward(self, x):\n",
    "    x = F.relu(F.max_pool2d(self.conv1(x), 2))\n",
    "    x = F.relu(F.max_pool2d(self.conv2_drop(self.conv2(x)), 2))\n",
    "    x = x.view(-1, 320)\n",
    "    x = F.relu(self.fc1(x))\n",
    "    x = F.dropout(x, training=self.training)\n",
    "    x = self.fc2(x)\n",
    "\n",
    "    # softmax, final probabilities\n",
    "    return F.softmax(x)\n"
   ]
  },
  {
   "cell_type": "code",
   "execution_count": 47,
   "metadata": {
    "metadata": {}
   },
   "outputs": [],
   "source": [
    "import torch\n",
    "\n",
    "device = torch.device(\"cuda\" if torch.cuda.is_available() else \"cpu\")\n",
    "# device = torch.device(\"cpu\")\n",
    "\n",
    "model = CNN().to(device)\n",
    "\n",
    "optimizer = optim.Adam(model.parameters(), lr=0.001)\n",
    "\n",
    "loss_fn = nn.CrossEntropyLoss()\n",
    "\n",
    "def train(epoch):\n",
    "  # set model to train mode\n",
    "  model.train()\n",
    "\n",
    "  for batch_idx, (data, target) in enumerate(loaders[\"train\"]):\n",
    "    data, target = data.to(device), target.to(device)\n",
    "    # zero gradients in optimizer\n",
    "    optimizer.zero_grad()\n",
    "    # make a prediction - forward pass\n",
    "    output = model(data)\n",
    "    # calculate performance\n",
    "    loss = loss_fn(output, target)\n",
    "    # backpropagation \n",
    "    loss.backward()\n",
    "    # do a step of the optimizer\n",
    "    optimizer.step()\n",
    "\n",
    "    if batch_idx % 20 == 0:\n",
    "      print(f'Train Epoch: {epoch} [{batch_idx * len(data)}/{len(loaders[\"train\"].dataset)} ({100. * batch_idx / len(loaders[\"train\"]):.0f}%)]\\t{loss.item():.6f}')\n",
    "\n",
    "def test():\n",
    "  model.eval()\n",
    "\n",
    "  test_loss = 0\n",
    "  correct = 0\n",
    "\n",
    "  with torch.no_grad():\n",
    "    for data, target in loaders['test']:\n",
    "      data, target = data.to(device), target.to(device)\n",
    "      output = model(data)\n",
    "      test_loss += loss_fn(output, target).item()\n",
    "      pred = output.argmax(dim=1, keepdim=True)\n",
    "      correct += pred.eq(target.view_as(pred)).sum().item()\n",
    "\n",
    "\n",
    "  test_loss /= len(loaders['test'].dataset)\n",
    "  print(f'/nTest set: Average loss: {test_loss:.4f}, Accuracy {correct}/{len(loaders[\"test\"].dataset)} ({100. * correct / len(loaders[\"test\"].dataset):.0f}%\\n)')\n",
    "  "
   ]
  },
  {
   "cell_type": "code",
   "execution_count": 48,
   "metadata": {
    "metadata": {}
   },
   "outputs": [
    {
     "name": "stderr",
     "output_type": "stream",
     "text": [
      "/tmp/ipykernel_21426/1710167421.py:29: UserWarning: Implicit dimension choice for softmax has been deprecated. Change the call to include dim=X as an argument.\n",
      "  return F.softmax(x)\n"
     ]
    },
    {
     "name": "stdout",
     "output_type": "stream",
     "text": [
      "Train Epoch: 1 [0/60000 (0%)]\t2.304131\n",
      "Train Epoch: 1 [2000/60000 (3%)]\t2.290982\n",
      "Train Epoch: 1 [4000/60000 (7%)]\t2.222322\n",
      "Train Epoch: 1 [6000/60000 (10%)]\t1.993485\n",
      "Train Epoch: 1 [8000/60000 (13%)]\t1.920708\n",
      "Train Epoch: 1 [10000/60000 (17%)]\t1.858778\n",
      "Train Epoch: 1 [12000/60000 (20%)]\t1.845053\n",
      "Train Epoch: 1 [14000/60000 (23%)]\t1.827843\n",
      "Train Epoch: 1 [16000/60000 (27%)]\t1.750437\n",
      "Train Epoch: 1 [18000/60000 (30%)]\t1.728356\n",
      "Train Epoch: 1 [20000/60000 (33%)]\t1.645761\n",
      "Train Epoch: 1 [22000/60000 (37%)]\t1.681920\n",
      "Train Epoch: 1 [24000/60000 (40%)]\t1.678167\n",
      "Train Epoch: 1 [26000/60000 (43%)]\t1.698497\n",
      "Train Epoch: 1 [28000/60000 (47%)]\t1.647012\n",
      "Train Epoch: 1 [30000/60000 (50%)]\t1.640061\n",
      "Train Epoch: 1 [32000/60000 (53%)]\t1.652180\n",
      "Train Epoch: 1 [34000/60000 (57%)]\t1.621520\n",
      "Train Epoch: 1 [36000/60000 (60%)]\t1.638308\n",
      "Train Epoch: 1 [38000/60000 (63%)]\t1.612177\n",
      "Train Epoch: 1 [40000/60000 (67%)]\t1.683077\n",
      "Train Epoch: 1 [42000/60000 (70%)]\t1.599600\n",
      "Train Epoch: 1 [44000/60000 (73%)]\t1.662632\n",
      "Train Epoch: 1 [46000/60000 (77%)]\t1.647432\n",
      "Train Epoch: 1 [48000/60000 (80%)]\t1.584757\n",
      "Train Epoch: 1 [50000/60000 (83%)]\t1.638582\n",
      "Train Epoch: 1 [52000/60000 (87%)]\t1.628415\n",
      "Train Epoch: 1 [54000/60000 (90%)]\t1.660885\n",
      "Train Epoch: 1 [56000/60000 (93%)]\t1.594416\n",
      "Train Epoch: 1 [58000/60000 (97%)]\t1.617356\n",
      "/nTest set: Average loss: 0.0153, Accuracy 9377/10000 (94%\n",
      ")\n",
      "Train Epoch: 2 [0/60000 (0%)]\t1.652249\n",
      "Train Epoch: 2 [2000/60000 (3%)]\t1.559593\n",
      "Train Epoch: 2 [4000/60000 (7%)]\t1.577335\n",
      "Train Epoch: 2 [6000/60000 (10%)]\t1.591510\n",
      "Train Epoch: 2 [8000/60000 (13%)]\t1.620550\n",
      "Train Epoch: 2 [10000/60000 (17%)]\t1.611713\n",
      "Train Epoch: 2 [12000/60000 (20%)]\t1.566431\n",
      "Train Epoch: 2 [14000/60000 (23%)]\t1.567208\n",
      "Train Epoch: 2 [16000/60000 (27%)]\t1.585414\n",
      "Train Epoch: 2 [18000/60000 (30%)]\t1.544048\n",
      "Train Epoch: 2 [20000/60000 (33%)]\t1.552612\n",
      "Train Epoch: 2 [22000/60000 (37%)]\t1.569082\n",
      "Train Epoch: 2 [24000/60000 (40%)]\t1.569354\n",
      "Train Epoch: 2 [26000/60000 (43%)]\t1.572424\n",
      "Train Epoch: 2 [28000/60000 (47%)]\t1.625332\n",
      "Train Epoch: 2 [30000/60000 (50%)]\t1.558370\n",
      "Train Epoch: 2 [32000/60000 (53%)]\t1.571469\n",
      "Train Epoch: 2 [34000/60000 (57%)]\t1.602690\n",
      "Train Epoch: 2 [36000/60000 (60%)]\t1.606192\n",
      "Train Epoch: 2 [38000/60000 (63%)]\t1.566191\n",
      "Train Epoch: 2 [40000/60000 (67%)]\t1.565251\n",
      "Train Epoch: 2 [42000/60000 (70%)]\t1.551819\n",
      "Train Epoch: 2 [44000/60000 (73%)]\t1.555562\n",
      "Train Epoch: 2 [46000/60000 (77%)]\t1.558885\n",
      "Train Epoch: 2 [48000/60000 (80%)]\t1.528352\n",
      "Train Epoch: 2 [50000/60000 (83%)]\t1.565366\n",
      "Train Epoch: 2 [52000/60000 (87%)]\t1.627849\n",
      "Train Epoch: 2 [54000/60000 (90%)]\t1.542858\n",
      "Train Epoch: 2 [56000/60000 (93%)]\t1.620550\n",
      "Train Epoch: 2 [58000/60000 (97%)]\t1.530724\n",
      "/nTest set: Average loss: 0.0151, Accuracy 9548/10000 (95%\n",
      ")\n",
      "Train Epoch: 3 [0/60000 (0%)]\t1.601365\n",
      "Train Epoch: 3 [2000/60000 (3%)]\t1.539473\n",
      "Train Epoch: 3 [4000/60000 (7%)]\t1.552355\n",
      "Train Epoch: 3 [6000/60000 (10%)]\t1.607760\n",
      "Train Epoch: 3 [8000/60000 (13%)]\t1.588870\n",
      "Train Epoch: 3 [10000/60000 (17%)]\t1.566764\n",
      "Train Epoch: 3 [12000/60000 (20%)]\t1.550879\n",
      "Train Epoch: 3 [14000/60000 (23%)]\t1.607449\n",
      "Train Epoch: 3 [16000/60000 (27%)]\t1.585435\n",
      "Train Epoch: 3 [18000/60000 (30%)]\t1.537906\n",
      "Train Epoch: 3 [20000/60000 (33%)]\t1.551209\n",
      "Train Epoch: 3 [22000/60000 (37%)]\t1.567301\n",
      "Train Epoch: 3 [24000/60000 (40%)]\t1.551335\n",
      "Train Epoch: 3 [26000/60000 (43%)]\t1.521594\n",
      "Train Epoch: 3 [28000/60000 (47%)]\t1.515446\n",
      "Train Epoch: 3 [30000/60000 (50%)]\t1.551388\n",
      "Train Epoch: 3 [32000/60000 (53%)]\t1.536468\n",
      "Train Epoch: 3 [34000/60000 (57%)]\t1.612452\n",
      "Train Epoch: 3 [36000/60000 (60%)]\t1.597398\n",
      "Train Epoch: 3 [38000/60000 (63%)]\t1.544276\n",
      "Train Epoch: 3 [40000/60000 (67%)]\t1.557461\n",
      "Train Epoch: 3 [42000/60000 (70%)]\t1.537498\n",
      "Train Epoch: 3 [44000/60000 (73%)]\t1.535121\n",
      "Train Epoch: 3 [46000/60000 (77%)]\t1.549461\n",
      "Train Epoch: 3 [48000/60000 (80%)]\t1.587656\n",
      "Train Epoch: 3 [50000/60000 (83%)]\t1.547082\n",
      "Train Epoch: 3 [52000/60000 (87%)]\t1.542242\n",
      "Train Epoch: 3 [54000/60000 (90%)]\t1.588942\n",
      "Train Epoch: 3 [56000/60000 (93%)]\t1.555388\n",
      "Train Epoch: 3 [58000/60000 (97%)]\t1.504977\n",
      "/nTest set: Average loss: 0.0150, Accuracy 9609/10000 (96%\n",
      ")\n",
      "Train Epoch: 4 [0/60000 (0%)]\t1.533550\n",
      "Train Epoch: 4 [2000/60000 (3%)]\t1.526099\n",
      "Train Epoch: 4 [4000/60000 (7%)]\t1.541271\n",
      "Train Epoch: 4 [6000/60000 (10%)]\t1.537019\n",
      "Train Epoch: 4 [8000/60000 (13%)]\t1.575364\n",
      "Train Epoch: 4 [10000/60000 (17%)]\t1.531438\n",
      "Train Epoch: 4 [12000/60000 (20%)]\t1.555984\n",
      "Train Epoch: 4 [14000/60000 (23%)]\t1.543300\n",
      "Train Epoch: 4 [16000/60000 (27%)]\t1.536360\n",
      "Train Epoch: 4 [18000/60000 (30%)]\t1.578527\n",
      "Train Epoch: 4 [20000/60000 (33%)]\t1.528490\n",
      "Train Epoch: 4 [22000/60000 (37%)]\t1.531232\n",
      "Train Epoch: 4 [24000/60000 (40%)]\t1.530791\n",
      "Train Epoch: 4 [26000/60000 (43%)]\t1.550573\n",
      "Train Epoch: 4 [28000/60000 (47%)]\t1.545246\n",
      "Train Epoch: 4 [30000/60000 (50%)]\t1.574175\n",
      "Train Epoch: 4 [32000/60000 (53%)]\t1.549240\n",
      "Train Epoch: 4 [34000/60000 (57%)]\t1.536535\n",
      "Train Epoch: 4 [36000/60000 (60%)]\t1.539143\n",
      "Train Epoch: 4 [38000/60000 (63%)]\t1.537590\n",
      "Train Epoch: 4 [40000/60000 (67%)]\t1.546699\n",
      "Train Epoch: 4 [42000/60000 (70%)]\t1.544787\n",
      "Train Epoch: 4 [44000/60000 (73%)]\t1.539800\n",
      "Train Epoch: 4 [46000/60000 (77%)]\t1.522789\n",
      "Train Epoch: 4 [48000/60000 (80%)]\t1.529167\n",
      "Train Epoch: 4 [50000/60000 (83%)]\t1.528635\n",
      "Train Epoch: 4 [52000/60000 (87%)]\t1.568378\n",
      "Train Epoch: 4 [54000/60000 (90%)]\t1.536296\n",
      "Train Epoch: 4 [56000/60000 (93%)]\t1.530855\n",
      "Train Epoch: 4 [58000/60000 (97%)]\t1.547457\n",
      "/nTest set: Average loss: 0.0150, Accuracy 9632/10000 (96%\n",
      ")\n",
      "Train Epoch: 5 [0/60000 (0%)]\t1.530089\n",
      "Train Epoch: 5 [2000/60000 (3%)]\t1.537446\n",
      "Train Epoch: 5 [4000/60000 (7%)]\t1.549720\n",
      "Train Epoch: 5 [6000/60000 (10%)]\t1.536824\n",
      "Train Epoch: 5 [8000/60000 (13%)]\t1.565359\n",
      "Train Epoch: 5 [10000/60000 (17%)]\t1.574211\n",
      "Train Epoch: 5 [12000/60000 (20%)]\t1.530988\n",
      "Train Epoch: 5 [14000/60000 (23%)]\t1.558896\n",
      "Train Epoch: 5 [16000/60000 (27%)]\t1.551392\n",
      "Train Epoch: 5 [18000/60000 (30%)]\t1.570600\n",
      "Train Epoch: 5 [20000/60000 (33%)]\t1.568444\n",
      "Train Epoch: 5 [22000/60000 (37%)]\t1.548839\n",
      "Train Epoch: 5 [24000/60000 (40%)]\t1.532741\n",
      "Train Epoch: 5 [26000/60000 (43%)]\t1.540296\n",
      "Train Epoch: 5 [28000/60000 (47%)]\t1.546817\n",
      "Train Epoch: 5 [30000/60000 (50%)]\t1.538415\n",
      "Train Epoch: 5 [32000/60000 (53%)]\t1.534219\n",
      "Train Epoch: 5 [34000/60000 (57%)]\t1.523707\n",
      "Train Epoch: 5 [36000/60000 (60%)]\t1.514779\n",
      "Train Epoch: 5 [38000/60000 (63%)]\t1.545159\n",
      "Train Epoch: 5 [40000/60000 (67%)]\t1.565384\n",
      "Train Epoch: 5 [42000/60000 (70%)]\t1.527263\n",
      "Train Epoch: 5 [44000/60000 (73%)]\t1.538394\n",
      "Train Epoch: 5 [46000/60000 (77%)]\t1.550851\n",
      "Train Epoch: 5 [48000/60000 (80%)]\t1.508603\n",
      "Train Epoch: 5 [50000/60000 (83%)]\t1.532907\n",
      "Train Epoch: 5 [52000/60000 (87%)]\t1.526833\n",
      "Train Epoch: 5 [54000/60000 (90%)]\t1.527264\n",
      "Train Epoch: 5 [56000/60000 (93%)]\t1.537922\n",
      "Train Epoch: 5 [58000/60000 (97%)]\t1.519797\n",
      "/nTest set: Average loss: 0.0149, Accuracy 9667/10000 (97%\n",
      ")\n",
      "Train Epoch: 6 [0/60000 (0%)]\t1.541351\n",
      "Train Epoch: 6 [2000/60000 (3%)]\t1.549161\n",
      "Train Epoch: 6 [4000/60000 (7%)]\t1.548075\n",
      "Train Epoch: 6 [6000/60000 (10%)]\t1.565986\n",
      "Train Epoch: 6 [8000/60000 (13%)]\t1.518639\n",
      "Train Epoch: 6 [10000/60000 (17%)]\t1.542566\n",
      "Train Epoch: 6 [12000/60000 (20%)]\t1.538979\n",
      "Train Epoch: 6 [14000/60000 (23%)]\t1.518516\n",
      "Train Epoch: 6 [16000/60000 (27%)]\t1.517955\n",
      "Train Epoch: 6 [18000/60000 (30%)]\t1.580266\n",
      "Train Epoch: 6 [20000/60000 (33%)]\t1.527242\n",
      "Train Epoch: 6 [22000/60000 (37%)]\t1.554128\n",
      "Train Epoch: 6 [24000/60000 (40%)]\t1.543593\n",
      "Train Epoch: 6 [26000/60000 (43%)]\t1.509891\n",
      "Train Epoch: 6 [28000/60000 (47%)]\t1.531073\n",
      "Train Epoch: 6 [30000/60000 (50%)]\t1.572527\n",
      "Train Epoch: 6 [32000/60000 (53%)]\t1.486536\n",
      "Train Epoch: 6 [34000/60000 (57%)]\t1.518338\n",
      "Train Epoch: 6 [36000/60000 (60%)]\t1.579469\n",
      "Train Epoch: 6 [38000/60000 (63%)]\t1.513857\n",
      "Train Epoch: 6 [40000/60000 (67%)]\t1.491398\n",
      "Train Epoch: 6 [42000/60000 (70%)]\t1.522572\n",
      "Train Epoch: 6 [44000/60000 (73%)]\t1.574805\n",
      "Train Epoch: 6 [46000/60000 (77%)]\t1.525103\n",
      "Train Epoch: 6 [48000/60000 (80%)]\t1.557411\n",
      "Train Epoch: 6 [50000/60000 (83%)]\t1.518882\n",
      "Train Epoch: 6 [52000/60000 (87%)]\t1.561794\n",
      "Train Epoch: 6 [54000/60000 (90%)]\t1.489530\n",
      "Train Epoch: 6 [56000/60000 (93%)]\t1.544263\n",
      "Train Epoch: 6 [58000/60000 (97%)]\t1.528367\n",
      "/nTest set: Average loss: 0.0149, Accuracy 9680/10000 (97%\n",
      ")\n",
      "Train Epoch: 7 [0/60000 (0%)]\t1.533517\n",
      "Train Epoch: 7 [2000/60000 (3%)]\t1.566273\n",
      "Train Epoch: 7 [4000/60000 (7%)]\t1.572945\n",
      "Train Epoch: 7 [6000/60000 (10%)]\t1.516517\n",
      "Train Epoch: 7 [8000/60000 (13%)]\t1.537839\n",
      "Train Epoch: 7 [10000/60000 (17%)]\t1.537434\n",
      "Train Epoch: 7 [12000/60000 (20%)]\t1.520722\n",
      "Train Epoch: 7 [14000/60000 (23%)]\t1.544241\n",
      "Train Epoch: 7 [16000/60000 (27%)]\t1.539691\n",
      "Train Epoch: 7 [18000/60000 (30%)]\t1.538658\n",
      "Train Epoch: 7 [20000/60000 (33%)]\t1.541428\n",
      "Train Epoch: 7 [22000/60000 (37%)]\t1.518918\n",
      "Train Epoch: 7 [24000/60000 (40%)]\t1.559349\n",
      "Train Epoch: 7 [26000/60000 (43%)]\t1.541312\n",
      "Train Epoch: 7 [28000/60000 (47%)]\t1.517446\n",
      "Train Epoch: 7 [30000/60000 (50%)]\t1.530179\n",
      "Train Epoch: 7 [32000/60000 (53%)]\t1.504022\n",
      "Train Epoch: 7 [34000/60000 (57%)]\t1.527810\n",
      "Train Epoch: 7 [36000/60000 (60%)]\t1.534833\n",
      "Train Epoch: 7 [38000/60000 (63%)]\t1.536503\n",
      "Train Epoch: 7 [40000/60000 (67%)]\t1.514775\n",
      "Train Epoch: 7 [42000/60000 (70%)]\t1.543273\n",
      "Train Epoch: 7 [44000/60000 (73%)]\t1.565752\n",
      "Train Epoch: 7 [46000/60000 (77%)]\t1.516795\n",
      "Train Epoch: 7 [48000/60000 (80%)]\t1.534161\n",
      "Train Epoch: 7 [50000/60000 (83%)]\t1.519298\n",
      "Train Epoch: 7 [52000/60000 (87%)]\t1.545735\n",
      "Train Epoch: 7 [54000/60000 (90%)]\t1.582419\n",
      "Train Epoch: 7 [56000/60000 (93%)]\t1.513151\n",
      "Train Epoch: 7 [58000/60000 (97%)]\t1.547438\n",
      "/nTest set: Average loss: 0.0149, Accuracy 9705/10000 (97%\n",
      ")\n",
      "Train Epoch: 8 [0/60000 (0%)]\t1.514459\n",
      "Train Epoch: 8 [2000/60000 (3%)]\t1.492085\n",
      "Train Epoch: 8 [4000/60000 (7%)]\t1.498259\n",
      "Train Epoch: 8 [6000/60000 (10%)]\t1.575464\n",
      "Train Epoch: 8 [8000/60000 (13%)]\t1.533859\n",
      "Train Epoch: 8 [10000/60000 (17%)]\t1.529263\n",
      "Train Epoch: 8 [12000/60000 (20%)]\t1.527847\n",
      "Train Epoch: 8 [14000/60000 (23%)]\t1.523775\n",
      "Train Epoch: 8 [16000/60000 (27%)]\t1.580265\n",
      "Train Epoch: 8 [18000/60000 (30%)]\t1.517658\n",
      "Train Epoch: 8 [20000/60000 (33%)]\t1.534325\n",
      "Train Epoch: 8 [22000/60000 (37%)]\t1.564867\n",
      "Train Epoch: 8 [24000/60000 (40%)]\t1.527144\n",
      "Train Epoch: 8 [26000/60000 (43%)]\t1.528225\n",
      "Train Epoch: 8 [28000/60000 (47%)]\t1.536350\n",
      "Train Epoch: 8 [30000/60000 (50%)]\t1.552603\n",
      "Train Epoch: 8 [32000/60000 (53%)]\t1.572024\n",
      "Train Epoch: 8 [34000/60000 (57%)]\t1.526139\n",
      "Train Epoch: 8 [36000/60000 (60%)]\t1.508179\n",
      "Train Epoch: 8 [38000/60000 (63%)]\t1.510233\n",
      "Train Epoch: 8 [40000/60000 (67%)]\t1.532399\n",
      "Train Epoch: 8 [42000/60000 (70%)]\t1.502312\n",
      "Train Epoch: 8 [44000/60000 (73%)]\t1.531175\n",
      "Train Epoch: 8 [46000/60000 (77%)]\t1.505134\n",
      "Train Epoch: 8 [48000/60000 (80%)]\t1.564015\n",
      "Train Epoch: 8 [50000/60000 (83%)]\t1.561875\n",
      "Train Epoch: 8 [52000/60000 (87%)]\t1.541642\n",
      "Train Epoch: 8 [54000/60000 (90%)]\t1.542563\n",
      "Train Epoch: 8 [56000/60000 (93%)]\t1.571204\n",
      "Train Epoch: 8 [58000/60000 (97%)]\t1.528635\n",
      "/nTest set: Average loss: 0.0149, Accuracy 9697/10000 (97%\n",
      ")\n",
      "Train Epoch: 9 [0/60000 (0%)]\t1.519868\n",
      "Train Epoch: 9 [2000/60000 (3%)]\t1.514194\n",
      "Train Epoch: 9 [4000/60000 (7%)]\t1.531200\n",
      "Train Epoch: 9 [6000/60000 (10%)]\t1.532902\n",
      "Train Epoch: 9 [8000/60000 (13%)]\t1.521233\n",
      "Train Epoch: 9 [10000/60000 (17%)]\t1.550341\n",
      "Train Epoch: 9 [12000/60000 (20%)]\t1.554896\n",
      "Train Epoch: 9 [14000/60000 (23%)]\t1.504300\n",
      "Train Epoch: 9 [16000/60000 (27%)]\t1.532445\n",
      "Train Epoch: 9 [18000/60000 (30%)]\t1.493373\n",
      "Train Epoch: 9 [20000/60000 (33%)]\t1.546913\n",
      "Train Epoch: 9 [22000/60000 (37%)]\t1.512801\n",
      "Train Epoch: 9 [24000/60000 (40%)]\t1.531552\n",
      "Train Epoch: 9 [26000/60000 (43%)]\t1.488968\n",
      "Train Epoch: 9 [28000/60000 (47%)]\t1.544134\n",
      "Train Epoch: 9 [30000/60000 (50%)]\t1.521092\n",
      "Train Epoch: 9 [32000/60000 (53%)]\t1.501888\n",
      "Train Epoch: 9 [34000/60000 (57%)]\t1.511304\n",
      "Train Epoch: 9 [36000/60000 (60%)]\t1.517540\n",
      "Train Epoch: 9 [38000/60000 (63%)]\t1.538735\n",
      "Train Epoch: 9 [40000/60000 (67%)]\t1.490804\n",
      "Train Epoch: 9 [42000/60000 (70%)]\t1.522609\n",
      "Train Epoch: 9 [44000/60000 (73%)]\t1.542278\n",
      "Train Epoch: 9 [46000/60000 (77%)]\t1.520362\n",
      "Train Epoch: 9 [48000/60000 (80%)]\t1.497505\n",
      "Train Epoch: 9 [50000/60000 (83%)]\t1.533908\n",
      "Train Epoch: 9 [52000/60000 (87%)]\t1.552698\n",
      "Train Epoch: 9 [54000/60000 (90%)]\t1.578726\n",
      "Train Epoch: 9 [56000/60000 (93%)]\t1.560622\n",
      "Train Epoch: 9 [58000/60000 (97%)]\t1.512274\n",
      "/nTest set: Average loss: 0.0149, Accuracy 9716/10000 (97%\n",
      ")\n",
      "Train Epoch: 10 [0/60000 (0%)]\t1.516833\n",
      "Train Epoch: 10 [2000/60000 (3%)]\t1.478101\n",
      "Train Epoch: 10 [4000/60000 (7%)]\t1.499687\n",
      "Train Epoch: 10 [6000/60000 (10%)]\t1.542272\n",
      "Train Epoch: 10 [8000/60000 (13%)]\t1.547291\n",
      "Train Epoch: 10 [10000/60000 (17%)]\t1.574602\n",
      "Train Epoch: 10 [12000/60000 (20%)]\t1.505273\n",
      "Train Epoch: 10 [14000/60000 (23%)]\t1.543273\n",
      "Train Epoch: 10 [16000/60000 (27%)]\t1.521544\n",
      "Train Epoch: 10 [18000/60000 (30%)]\t1.496560\n",
      "Train Epoch: 10 [20000/60000 (33%)]\t1.549630\n",
      "Train Epoch: 10 [22000/60000 (37%)]\t1.506716\n",
      "Train Epoch: 10 [24000/60000 (40%)]\t1.499699\n",
      "Train Epoch: 10 [26000/60000 (43%)]\t1.517983\n",
      "Train Epoch: 10 [28000/60000 (47%)]\t1.486430\n",
      "Train Epoch: 10 [30000/60000 (50%)]\t1.517169\n",
      "Train Epoch: 10 [32000/60000 (53%)]\t1.511620\n",
      "Train Epoch: 10 [34000/60000 (57%)]\t1.479419\n",
      "Train Epoch: 10 [36000/60000 (60%)]\t1.547392\n",
      "Train Epoch: 10 [38000/60000 (63%)]\t1.482401\n",
      "Train Epoch: 10 [40000/60000 (67%)]\t1.498159\n",
      "Train Epoch: 10 [42000/60000 (70%)]\t1.532094\n",
      "Train Epoch: 10 [44000/60000 (73%)]\t1.515792\n",
      "Train Epoch: 10 [46000/60000 (77%)]\t1.504937\n",
      "Train Epoch: 10 [48000/60000 (80%)]\t1.492442\n",
      "Train Epoch: 10 [50000/60000 (83%)]\t1.572703\n",
      "Train Epoch: 10 [52000/60000 (87%)]\t1.540920\n",
      "Train Epoch: 10 [54000/60000 (90%)]\t1.485337\n",
      "Train Epoch: 10 [56000/60000 (93%)]\t1.581818\n",
      "Train Epoch: 10 [58000/60000 (97%)]\t1.522392\n",
      "/nTest set: Average loss: 0.0149, Accuracy 9752/10000 (98%\n",
      ")\n"
     ]
    }
   ],
   "source": [
    "for epoch in range(1, 11): \n",
    "  train(epoch)\n",
    "  test()"
   ]
  },
  {
   "cell_type": "code",
   "execution_count": 56,
   "metadata": {
    "metadata": {}
   },
   "outputs": [
    {
     "data": {
      "text/plain": [
       "device(type='cuda')"
      ]
     },
     "execution_count": 56,
     "metadata": {},
     "output_type": "execute_result"
    }
   ],
   "source": [
    "device"
   ]
  },
  {
   "cell_type": "code",
   "execution_count": 60,
   "metadata": {
    "metadata": {}
   },
   "outputs": [
    {
     "name": "stdout",
     "output_type": "stream",
     "text": [
      "Prediction: 7\n"
     ]
    },
    {
     "name": "stderr",
     "output_type": "stream",
     "text": [
      "/tmp/ipykernel_21426/1710167421.py:29: UserWarning: Implicit dimension choice for softmax has been deprecated. Change the call to include dim=X as an argument.\n",
      "  return F.softmax(x)\n"
     ]
    },
    {
     "data": {
      "image/png": "[encoded data removed]",
      "text/plain": [
       "<Figure size 640x480 with 1 Axes>"
      ]
     },
     "metadata": {},
     "output_type": "display_data"
    }
   ],
   "source": [
    "import matplotlib.pyplot as plt\n",
    "\n",
    "model.eval()\n",
    "\n",
    "data, target = test_data[0]\n",
    "\n",
    "data = data.unsqueeze(0).to(device)\n",
    "\n",
    "output = model(data)\n",
    "\n",
    "prediction = output.argmax(dim=1, keepdim=True).item()\n",
    "\n",
    "print(f'Prediction: {prediction}')\n",
    "\n",
    "image = data.squeeze(0). squeeze(0).cpu().numpy()\n",
    "\n",
    "plt.imshow(image, cmap=\"gray\")\n",
    "plt.show()"
   ]
  },
  {
   "cell_type": "code",
   "execution_count": null,
   "metadata": {},
   "outputs": [],
   "source": []
  }
 ],
 "metadata": {
  "kernelspec": {
   "display_name": ".venv",
   "language": "python",
   "name": "python3"
  },
  "language_info": {
   "codemirror_mode": {
    "name": "ipython",
    "version": 3
   },
   "file_extension": ".py",
   "mimetype": "text/x-python",
   "name": "python",
   "nbconvert_exporter": "python",
   "pygments_lexer": "ipython3",
   "version": "3.10.12"
  }
 },
 "nbformat": 4,
 "nbformat_minor": 2
}
